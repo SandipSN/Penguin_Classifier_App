{
 "cells": [
  {
   "cell_type": "code",
   "execution_count": 1,
   "source": [
    "import pandas as pd\r\n",
    "import numpy as np\r\n",
    "from sklearn.model_selection import train_test_split\r\n",
    "from sklearn.ensemble import RandomForestRegressor\r\n",
    "from sklearn.ensemble import RandomForestClassifier\r\n",
    "from sklearn.metrics import accuracy_score\r\n",
    "from sklearn.metrics import mean_absolute_error\r\n",
    "from sklearn.preprocessing import OneHotEncoder"
   ],
   "outputs": [],
   "metadata": {}
  },
  {
   "cell_type": "code",
   "execution_count": 2,
   "source": [
    "data = pd.read_csv('penguins_imputed.csv', index_col=[0])"
   ],
   "outputs": [],
   "metadata": {}
  },
  {
   "cell_type": "code",
   "execution_count": 23,
   "source": [
    "def one_hot(df):\r\n",
    "    OH_encoder = OneHotEncoder(handle_unknown='ignore', sparse=False)\r\n",
    "    encode_cols = ['sex', 'island']\r\n",
    "    df_cols = pd.DataFrame(OH_encoder.fit_transform(df[encode_cols]))\r\n",
    "    df_cols.index = df.index\r\n",
    "    df2 = df.drop(encode_cols, axis=1)\r\n",
    "    df2 = pd.concat([df2, df_cols], axis=1)\r\n",
    "    df2 = df2.reset_index(drop=True)\r\n",
    "    df2 = df2.dropna(axis='columns')\r\n",
    "    return df2\r\n",
    "\r\n",
    "# Separate target from predictors\r\n",
    "def split(data):\r\n",
    "    y = data.species\r\n",
    "    X = data.drop(['species'], axis=1)\r\n",
    "    X_train, X_valid, y_train, y_valid = train_test_split(X, y, train_size=0.8, test_size=0.2, random_state=0)\r\n",
    "    return X_train, X_valid, y_train, y_valid\r\n",
    "\r\n",
    "#scoring\r\n",
    "def classification_score(X_train, X_valid, y_train, y_valid):\r\n",
    "    model = RandomForestClassifier(random_state=0)\r\n",
    "    model.fit(X_train, y_train)\r\n",
    "    preds = model.predict(X_valid)\r\n",
    "    return accuracy_score(y_valid, preds)"
   ],
   "outputs": [],
   "metadata": {}
  },
  {
   "cell_type": "code",
   "execution_count": 24,
   "source": [
    "data_OH = one_hot(data)\r\n",
    "\r\n",
    "X_train_1, X_valid_1, y_train, y_valid = split(data_OH)\r\n",
    "\r\n"
   ],
   "outputs": [],
   "metadata": {}
  },
  {
   "cell_type": "code",
   "execution_count": 25,
   "source": [
    "print(X_train_1.head())\r\n",
    "print(np.shape(X_train_1))\r\n"
   ],
   "outputs": [
    {
     "output_type": "stream",
     "name": "stdout",
     "text": [
      "     culmen_length_mm  culmen_depth_mm  flipper_length_mm  body_mass_g    0  \\\n",
      "232              48.4             14.6              213.0       5850.0  0.0   \n",
      "22               38.2             18.1              185.0       3950.0  0.0   \n",
      "275              43.8             13.9              208.0       4300.0  1.0   \n",
      "136              40.2             20.1              200.0       3975.0  0.0   \n",
      "66               41.1             19.1              188.0       4100.0  0.0   \n",
      "\n",
      "       1    2    3    4  \n",
      "232  1.0  1.0  0.0  0.0  \n",
      "22   1.0  1.0  0.0  0.0  \n",
      "275  0.0  1.0  0.0  0.0  \n",
      "136  1.0  0.0  1.0  0.0  \n",
      "66   1.0  1.0  0.0  0.0  \n",
      "(273, 9)\n"
     ]
    }
   ],
   "metadata": {}
  },
  {
   "cell_type": "code",
   "execution_count": 27,
   "source": [
    "print(classification_score(X_train_1, X_valid_1, y_train, y_valid))\r\n"
   ],
   "outputs": [
    {
     "output_type": "stream",
     "name": "stdout",
     "text": [
      "0.9855072463768116\n"
     ]
    }
   ],
   "metadata": {}
  },
  {
   "cell_type": "code",
   "execution_count": 28,
   "source": [
    "model = RandomForestClassifier(random_state=0)\r\n",
    "model.fit(X_train_1, y_train)"
   ],
   "outputs": [
    {
     "output_type": "execute_result",
     "data": {
      "text/plain": [
       "RandomForestClassifier(random_state=0)"
      ]
     },
     "metadata": {},
     "execution_count": 28
    }
   ],
   "metadata": {}
  },
  {
   "cell_type": "code",
   "execution_count": 29,
   "source": [
    "test = np.array([50.6,19.4,193.0,3800.0, 0, 1, 0, 1, 0]).reshape(1, -1)\r\n",
    "print(model.predict(test))"
   ],
   "outputs": [
    {
     "output_type": "stream",
     "name": "stdout",
     "text": [
      "['Chinstrap']\n"
     ]
    }
   ],
   "metadata": {}
  }
 ],
 "metadata": {
  "orig_nbformat": 4,
  "language_info": {
   "name": "python",
   "version": "3.9.1",
   "mimetype": "text/x-python",
   "codemirror_mode": {
    "name": "ipython",
    "version": 3
   },
   "pygments_lexer": "ipython3",
   "nbconvert_exporter": "python",
   "file_extension": ".py"
  },
  "kernelspec": {
   "name": "python3",
   "display_name": "Python 3.9.1 64-bit"
  },
  "interpreter": {
   "hash": "5a786800335806f4605cc61f2cac09c7f55e301129974e6e8fcb42835e1835d7"
  }
 },
 "nbformat": 4,
 "nbformat_minor": 2
}